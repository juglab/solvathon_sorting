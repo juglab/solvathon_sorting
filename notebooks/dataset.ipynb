{
 "cells": [
  {
   "cell_type": "code",
   "execution_count": 1,
   "metadata": {},
   "outputs": [],
   "source": [
    "import pickle\n",
    "\n",
    "import numpy as np\n",
    "import pandas as pd\n",
    "import matplotlib.pyplot as plt\n",
    "\n",
    "import flowkit as fk\n",
    "\n",
    "\n",
    "np.random.seed(777)"
   ]
  },
  {
   "cell_type": "code",
   "execution_count": 2,
   "metadata": {},
   "outputs": [
    {
     "data": {
      "text/plain": [
       "'1.0.1'"
      ]
     },
     "execution_count": 2,
     "metadata": {},
     "output_type": "execute_result"
    }
   ],
   "source": [
    "# check version so users can verify they have the same version/API\n",
    "fk.__version__"
   ]
  },
  {
   "cell_type": "code",
   "execution_count": 3,
   "metadata": {},
   "outputs": [],
   "source": [
    "rawdatadir = '/Users/ashesh.ashesh/Documents/PhD/mbldata_solvation/data/'\n",
    "outputdatadir = '/Users/ashesh.ashesh/Documents/PhD/mbldata_solvation/data_with_tiff/'\n",
    "c6818_fcs = os.path.join(rawdatadir,\"C.6818.fcs\")\n",
    "emiliana_fcs = os.path.join(rawdatadir,\"Emiliana_huxley.fcs\")"
   ]
  },
  {
   "cell_type": "code",
   "execution_count": 4,
   "metadata": {},
   "outputs": [
    {
     "data": {
      "text/plain": [
       "(Sample(v3.2, C.6818.fcs, 450 channels, 299976 events),\n",
       " Sample(v3.2, Emiliana_huxley.fcs, 450 channels, 126206 events))"
      ]
     },
     "execution_count": 4,
     "metadata": {},
     "output_type": "execute_result"
    }
   ],
   "source": [
    "c6818_sample = fk.Sample(c6818_fcs)\n",
    "emiliana_sample = fk.Sample(emiliana_fcs)\n",
    "\n",
    "c6818_sample, emiliana_sample"
   ]
  },
  {
   "cell_type": "code",
   "execution_count": 5,
   "metadata": {},
   "outputs": [
    {
     "data": {
      "text/plain": [
       "Sample(v3.2, C.6818.fcs, 450 channels, 299976 events)"
      ]
     },
     "execution_count": 5,
     "metadata": {},
     "output_type": "execute_result"
    }
   ],
   "source": [
    "c6818_sample"
   ]
  },
  {
   "cell_type": "code",
   "execution_count": 6,
   "metadata": {},
   "outputs": [],
   "source": [
    "# emiliana_sample.subsample_events()\n",
    "# _df = emiliana_sample.as_dataframe(source=\"raw\", subsample=True)\n",
    "# _df.to_csv(\"./emiliana_subsamples.csv\", index=False)\n",
    "\n",
    "# emiliana_sample.as_dataframe(source=\"raw\").to_csv(\"./emiliana.csv\", index=False)"
   ]
  },
  {
   "cell_type": "code",
   "execution_count": 7,
   "metadata": {},
   "outputs": [],
   "source": [
    "df_c6818 = c6818_sample.as_dataframe(source=\"raw\")\n",
    "df_emiliana = emiliana_sample.as_dataframe(source='raw')"
   ]
  },
  {
   "cell_type": "code",
   "execution_count": 8,
   "metadata": {},
   "outputs": [
    {
     "name": "stdout",
     "output_type": "stream",
     "text": [
      "<class 'pandas.core.frame.DataFrame'>\n",
      "RangeIndex: 299976 entries, 0 to 299975\n",
      "Columns: 450 entries, ('FSC-A', 'FSC-A') to ('WaveformPresent', '')\n",
      "dtypes: float64(450)\n",
      "memory usage: 1.0 GB\n"
     ]
    }
   ],
   "source": [
    "df_c6818.info()"
   ]
  },
  {
   "cell_type": "code",
   "execution_count": 9,
   "metadata": {},
   "outputs": [],
   "source": [
    "import os\n",
    "\n",
    "def has_tif(datadir):\n",
    "    hastif_indices = []\n",
    "    for dir_idx, dir in enumerate(os.listdir(datadir)):\n",
    "        for fpath in os.listdir(os.path.join(datadir,dir)):\n",
    "            if fpath.endswith(\".tiff\"):\n",
    "                fname = fpath[:-5]\n",
    "                hastif_indices.append(int(fname.split('_')[-1]))\n",
    "            else:\n",
    "                raise ValueError(\"Something other than tiff file found in {}\".format(os.path.join(datadir,dir)))\n",
    "        # print(dir, dir_idx, len(hastif_indices))\n",
    "    return hastif_indices"
   ]
  },
  {
   "cell_type": "code",
   "execution_count": 10,
   "metadata": {},
   "outputs": [],
   "source": [
    "hastifentries_c6818 = has_tif('/Volumes/T7 T/10_sorting/data/230907/C.6818/C.6818_images_20230824_1235_19')\n",
    "hastifentries_Emiliana = has_tif('/Volumes/T7 T/10_sorting/data/230907/Emiliana_huxley/Emiliana_huxley_images_20230824_1235_33/')\n"
   ]
  },
  {
   "cell_type": "code",
   "execution_count": 11,
   "metadata": {},
   "outputs": [],
   "source": [
    "# is_all_numeric = df_c6818.applymap(np.isreal).all(1)\n",
    "# is_all_numeric.sum()"
   ]
  },
  {
   "cell_type": "code",
   "execution_count": 12,
   "metadata": {},
   "outputs": [
    {
     "name": "stdout",
     "output_type": "stream",
     "text": [
      "<class 'pandas.core.frame.DataFrame'>\n",
      "RangeIndex: 126206 entries, 0 to 126205\n",
      "Columns: 450 entries, ('FSC-A', 'FSC-A') to ('WaveformPresent', '')\n",
      "dtypes: float64(450)\n",
      "memory usage: 433.3 MB\n"
     ]
    }
   ],
   "source": [
    "df_emiliana.info()"
   ]
  },
  {
   "cell_type": "code",
   "execution_count": 13,
   "metadata": {},
   "outputs": [],
   "source": [
    "# is_all_numeric = df_emiliana.applymap(np.isreal).all(1)\n",
    "# is_all_numeric.sum() == len(df_emiliana)"
   ]
  },
  {
   "cell_type": "code",
   "execution_count": 14,
   "metadata": {
    "scrolled": true
   },
   "outputs": [
    {
     "name": "stdout",
     "output_type": "stream",
     "text": [
      "['FSC-A', 'FSC-H', 'FSC-W', 'SSC (Violet)-A', 'SSC (Violet)-H', 'SSC (Violet)-W', 'LightLoss (Imaging)-A', 'LightLoss (Imaging)-H', 'LightLoss (Imaging)-W', 'SSC (Imaging)-A', 'SSC (Imaging)-H', 'SSC (Imaging)-W', 'LightLoss (Violet)-A', 'LightLoss (Violet)-H', 'LightLoss (Violet)-W', 'Size (LightLoss (Imaging))', 'Size (FSC)', 'Size (SSC (Imaging))', 'Size (Green*)', 'Size (Orange*)', 'Size (Red*)', 'Max Intensity (LightLoss (Imaging))', 'Max Intensity (FSC)', 'Max Intensity (SSC (Imaging))', 'Max Intensity (Green*)', 'Max Intensity (Orange*)', 'Max Intensity (Red*)', 'Long Axis Moment (LightLoss (Imaging))', 'Long Axis Moment (FSC)', 'Long Axis Moment (SSC (Imaging))', 'Long Axis Moment (Green*)', 'Long Axis Moment (Orange*)', 'Long Axis Moment (Red*)', 'Short Axis Moment (LightLoss (Imaging))', 'Short Axis Moment (FSC)', 'Short Axis Moment (SSC (Imaging))', 'Short Axis Moment (Green*)', 'Short Axis Moment (Orange*)', 'Short Axis Moment (Red*)', 'Center of Mass (Y) (LightLoss (Imaging))', 'Center of Mass (Y) (FSC)', 'Center of Mass (Y) (SSC (Imaging))', 'Center of Mass (Y) (Green*)', 'Center of Mass (Y) (Orange*)', 'Center of Mass (Y) (Red*)', 'Center of Mass (X) (LightLoss (Imaging))', 'Center of Mass (X) (FSC)', 'Center of Mass (X) (SSC (Imaging))', 'Center of Mass (X) (Green*)', 'Center of Mass (X) (Orange*)', 'Center of Mass (X) (Red*)', 'Total Intensity (LightLoss (Imaging))', 'Total Intensity (FSC)', 'Total Intensity (SSC (Imaging))', 'Total Intensity (Green*)', 'Total Intensity (Orange*)', 'Total Intensity (Red*)', 'Correlation (Green*/Orange*)', 'Correlation (Green*/Red*)', 'Correlation (Orange*/Red*)', 'Radial Moment (SSC (Imaging))', 'Radial Moment (LightLoss (Imaging))', 'Radial Moment (FSC)', 'Radial Moment (Green*)', 'Radial Moment (Orange*)', 'Radial Moment (Red*)', 'Eccentricity (SSC (Imaging))', 'Eccentricity (LightLoss (Imaging))', 'Eccentricity (FSC)', 'Eccentricity (Green*)', 'Eccentricity (Orange*)', 'Eccentricity (Red*)', 'Diffusivity (SSC (Imaging))', 'Diffusivity (LightLoss (Imaging))', 'Diffusivity (FSC)', 'Diffusivity (Green*)', 'Diffusivity (Orange*)', 'Diffusivity (Red*)', 'Delta CoM (SSC (Imaging)/LightLoss (Imaging))', 'Delta CoM (SSC (Imaging)/FSC)', 'Delta CoM (SSC (Imaging)/Green*)', 'Delta CoM (SSC (Imaging)/Orange*)', 'Delta CoM (SSC (Imaging)/Red*)', 'Delta CoM (LightLoss (Imaging)/FSC)', 'Delta CoM (LightLoss (Imaging)/Green*)', 'Delta CoM (LightLoss (Imaging)/Orange*)', 'Delta CoM (LightLoss (Imaging)/Red*)', 'Delta CoM (FSC/Green*)', 'Delta CoM (FSC/Orange*)', 'Delta CoM (FSC/Red*)', 'Delta CoM (Green*/Orange*)', 'Delta CoM (Green*/Red*)', 'Delta CoM (Orange*/Red*)', 'Saturated', 'Time', 'Sorted', 'Row', 'Column', 'ImgB1 (535)-A', 'ImgB2 (600)-A', 'ImgB3 (790)-A', 'UV1 (375)-A', 'UV2 (390)-A', 'UV3 (420)-A', 'UV4 (440)-A', 'UV5 (460)-A', 'UV6 (475)-A', 'UV7 (500)-A', 'UV8 (515)-A', 'UV9 (530)-A', 'UV10 (545)-A', 'UV11 (575)-A', 'UV12 (590)-A', 'UV13 (605)-A', 'UV14 (625)-A', 'UV15 (655)-A', 'UV16 (675)-A', 'UV17 (700)-A', 'UV18 (725)-A', 'UV19 (750)-A', 'UV20 (780)-A', 'UV21 (810)-A', 'UV22 (845)-A', 'V1 (420)-A', 'V2 (440)-A', 'V3 (460)-A', 'V4 (475)-A', 'V5 (500)-A', 'V6 (515)-A', 'V7 (530)-A', 'V8 (545)-A', 'V9 (575)-A', 'V10 (590)-A', 'V11 (605)-A', 'V12 (625)-A', 'V13 (655)-A', 'V14 (675)-A', 'V15 (700)-A', 'V16 (725)-A', 'V17 (750)-A', 'V18 (780)-A', 'V19 (810)-A', 'V20 (845)-A', 'B1 (500)-A', 'B2 (515)-A', 'B3 (530)-A', 'B4 (545)-A', 'B5 (575)-A', 'B6 (590)-A', 'B7 (605)-A', 'B8 (625)-A', 'B9 (655)-A', 'B10 (675)-A', 'B11 (700)-A', 'B12 (725)-A', 'B13 (750)-A', 'B14 (780)-A', 'B15 (810)-A', 'B16 (845)-A', 'YG1 (575)-A', 'YG2 (590)-A', 'YG3 (605)-A', 'YG4 (625)-A', 'YG5 (655)-A', 'YG6 (675)-A', 'YG7 (700)-A', 'YG8 (725)-A', 'YG9 (750)-A', 'YG10 (780)-A', 'YG11 (810)-A', 'YG12 (845)-A', 'R1 (655)-A', 'R2 (675)-A', 'R3 (700)-A', 'R4 (725)-A', 'R5 (750)-A', 'R6 (780)-A', 'R7 (810)-A', 'R8 (845)-A', 'ImgB1 (535)-H', 'ImgB2 (600)-H', 'ImgB3 (790)-H', 'UV1 (375)-H', 'UV2 (390)-H', 'UV3 (420)-H', 'UV4 (440)-H', 'UV5 (460)-H', 'UV6 (475)-H', 'UV7 (500)-H', 'UV8 (515)-H', 'UV9 (530)-H', 'UV10 (545)-H', 'UV11 (575)-H', 'UV12 (590)-H', 'UV13 (605)-H', 'UV14 (625)-H', 'UV15 (655)-H', 'UV16 (675)-H', 'UV17 (700)-H', 'UV18 (725)-H', 'UV19 (750)-H', 'UV20 (780)-H', 'UV21 (810)-H', 'UV22 (845)-H', 'V1 (420)-H', 'V2 (440)-H', 'V3 (460)-H', 'V4 (475)-H', 'V5 (500)-H', 'V6 (515)-H', 'V7 (530)-H', 'V8 (545)-H', 'V9 (575)-H', 'V10 (590)-H', 'V11 (605)-H', 'V12 (625)-H', 'V13 (655)-H', 'V14 (675)-H', 'V15 (700)-H', 'V16 (725)-H', 'V17 (750)-H', 'V18 (780)-H', 'V19 (810)-H', 'V20 (845)-H', 'B1 (500)-H', 'B2 (515)-H', 'B3 (530)-H', 'B4 (545)-H', 'B5 (575)-H', 'B6 (590)-H', 'B7 (605)-H', 'B8 (625)-H', 'B9 (655)-H', 'B10 (675)-H', 'B11 (700)-H', 'B12 (725)-H', 'B13 (750)-H', 'B14 (780)-H', 'B15 (810)-H', 'B16 (845)-H', 'YG1 (575)-H', 'YG2 (590)-H', 'YG3 (605)-H', 'YG4 (625)-H', 'YG5 (655)-H', 'YG6 (675)-H', 'YG7 (700)-H', 'YG8 (725)-H', 'YG9 (750)-H', 'YG10 (780)-H', 'YG11 (810)-H', 'YG12 (845)-H', 'R1 (655)-H', 'R2 (675)-H', 'R3 (700)-H', 'R4 (725)-H', 'R5 (750)-H', 'R6 (780)-H', 'R7 (810)-H', 'R8 (845)-H', 'ImgB1 (535)-W', 'ImgB2 (600)-W', 'ImgB3 (790)-W', 'UV1 (375)-W', 'UV2 (390)-W', 'UV3 (420)-W', 'UV4 (440)-W', 'UV5 (460)-W', 'UV6 (475)-W', 'UV7 (500)-W', 'UV8 (515)-W', 'UV9 (530)-W', 'UV10 (545)-W', 'UV11 (575)-W', 'UV12 (590)-W', 'UV13 (605)-W', 'UV14 (625)-W', 'UV15 (655)-W', 'UV16 (675)-W', 'UV17 (700)-W', 'UV18 (725)-W', 'UV19 (750)-W', 'UV20 (780)-W', 'UV21 (810)-W', 'UV22 (845)-W', 'V1 (420)-W', 'V2 (440)-W', 'V3 (460)-W', 'V4 (475)-W', 'V5 (500)-W', 'V6 (515)-W', 'V7 (530)-W', 'V8 (545)-W', 'V9 (575)-W', 'V10 (590)-W', 'V11 (605)-W', 'V12 (625)-W', 'V13 (655)-W', 'V14 (675)-W', 'V15 (700)-W', 'V16 (725)-W', 'V17 (750)-W', 'V18 (780)-W', 'V19 (810)-W', 'V20 (845)-W', 'B1 (500)-W', 'B2 (515)-W', 'B3 (530)-W', 'B4 (545)-W', 'B5 (575)-W', 'B6 (590)-W', 'B7 (605)-W', 'B8 (625)-W', 'B9 (655)-W', 'B10 (675)-W', 'B11 (700)-W', 'B12 (725)-W', 'B13 (750)-W', 'B14 (780)-W', 'B15 (810)-W', 'B16 (845)-W', 'YG1 (575)-W', 'YG2 (590)-W', 'YG3 (605)-W', 'YG4 (625)-W', 'YG5 (655)-W', 'YG6 (675)-W', 'YG7 (700)-W', 'YG8 (725)-W', 'YG9 (750)-W', 'YG10 (780)-W', 'YG11 (810)-W', 'YG12 (845)-W', 'R1 (655)-W', 'R2 (675)-W', 'R3 (700)-W', 'R4 (725)-W', 'R5 (750)-W', 'R6 (780)-W', 'R7 (810)-W', 'R8 (845)-W', 'FSC-T', 'SSC (Violet)-T', 'LightLoss (Imaging)-T', 'SSC (Imaging)-T', 'LightLoss (Violet)-T', 'ImgB1 (535)-T', 'ImgB2 (600)-T', 'ImgB3 (790)-T', 'UV1 (375)-T', 'UV2 (390)-T', 'UV3 (420)-T', 'UV4 (440)-T', 'UV5 (460)-T', 'UV6 (475)-T', 'UV7 (500)-T', 'UV8 (515)-T', 'UV9 (530)-T', 'UV10 (545)-T', 'UV11 (575)-T', 'UV12 (590)-T', 'UV13 (605)-T', 'UV14 (625)-T', 'UV15 (655)-T', 'UV16 (675)-T', 'UV17 (700)-T', 'UV18 (725)-T', 'UV19 (750)-T', 'UV20 (780)-T', 'UV21 (810)-T', 'UV22 (845)-T', 'V1 (420)-T', 'V2 (440)-T', 'V3 (460)-T', 'V4 (475)-T', 'V5 (500)-T', 'V6 (515)-T', 'V7 (530)-T', 'V8 (545)-T', 'V9 (575)-T', 'V10 (590)-T', 'V11 (605)-T', 'V12 (625)-T', 'V13 (655)-T', 'V14 (675)-T', 'V15 (700)-T', 'V16 (725)-T', 'V17 (750)-T', 'V18 (780)-T', 'V19 (810)-T', 'V20 (845)-T', 'B1 (500)-T', 'B2 (515)-T', 'B3 (530)-T', 'B4 (545)-T', 'B5 (575)-T', 'B6 (590)-T', 'B7 (605)-T', 'B8 (625)-T', 'B9 (655)-T', 'B10 (675)-T', 'B11 (700)-T', 'B12 (725)-T', 'B13 (750)-T', 'B14 (780)-T', 'B15 (810)-T', 'B16 (845)-T', 'YG1 (575)-T', 'YG2 (590)-T', 'YG3 (605)-T', 'YG4 (625)-T', 'YG5 (655)-T', 'YG6 (675)-T', 'YG7 (700)-T', 'YG8 (725)-T', 'YG9 (750)-T', 'YG10 (780)-T', 'YG11 (810)-T', 'YG12 (845)-T', 'R1 (655)-T', 'R2 (675)-T', 'R3 (700)-T', 'R4 (725)-T', 'R5 (750)-T', 'R6 (780)-T', 'R7 (810)-T', 'R8 (845)-T', 'Protocol', 'EventLabel', 'Regions0', 'Regions1', 'Regions2', 'Regions3', 'Gates', 'IndexSort', 'SaturatedChannels', 'PhaseOffset', 'PlateLocationX', 'PlateLocationY', 'EventNumber0', 'EventNumber1', 'DeltaTime0', 'DeltaTime1', 'DropId', 'SaturatedChannels1', 'SaturatedChannels2', 'SpectralEventWidth', 'EventWidthInDrops', 'SpectralUnmixingFlags', 'WaveformPresent']\n"
     ]
    }
   ],
   "source": [
    "feature_names = c6818_sample.pnn_labels\n",
    "assert c6818_sample.pnn_labels == emiliana_sample.pnn_labels\n",
    "print(feature_names)"
   ]
  },
  {
   "cell_type": "code",
   "execution_count": 15,
   "metadata": {},
   "outputs": [
    {
     "data": {
      "text/plain": [
       "448"
      ]
     },
     "execution_count": 15,
     "metadata": {},
     "output_type": "execute_result"
    }
   ],
   "source": [
    "# remove the Time and DropId columns,\n",
    "# because they are distinctive features for each sample class.\n",
    "drop_cols = [\"Time\", \"DropId\"]\n",
    "feature_names = [name for name in feature_names if name not in drop_cols]\n",
    "df_c6818.drop(columns=drop_cols, level=0, inplace=True)\n",
    "df_emiliana.drop(columns=drop_cols, level=0, inplace=True)\n",
    "\n",
    "len(feature_names)"
   ]
  },
  {
   "cell_type": "code",
   "execution_count": 16,
   "metadata": {},
   "outputs": [
    {
     "name": "stdout",
     "output_type": "stream",
     "text": [
      "<class 'pandas.core.frame.DataFrame'>\n",
      "RangeIndex: 299976 entries, 0 to 299975\n",
      "Columns: 448 entries, ('FSC-A', 'FSC-A') to ('WaveformPresent', '')\n",
      "dtypes: float64(448)\n",
      "memory usage: 1.0 GB\n"
     ]
    }
   ],
   "source": [
    "df_c6818.info()"
   ]
  },
  {
   "cell_type": "code",
   "execution_count": 17,
   "metadata": {},
   "outputs": [
    {
     "data": {
      "text/plain": [
       "126206"
      ]
     },
     "execution_count": 17,
     "metadata": {},
     "output_type": "execute_result"
    }
   ],
   "source": [
    "num_class_samples = min(len(df_emiliana), len(df_c6818))\n",
    "num_class_samples"
   ]
  },
  {
   "attachments": {},
   "cell_type": "markdown",
   "metadata": {},
   "source": [
    "## adding the info about has tiff"
   ]
  },
  {
   "cell_type": "code",
   "execution_count": 18,
   "metadata": {},
   "outputs": [],
   "source": [
    "df_c6818['HasTiff'] = 0\n",
    "df_c6818.loc[hastifentries_c6818]['HasTiff'] = 1\n",
    "df_emiliana['HasTiff'] = 0\n",
    "df_emiliana.loc[hastifentries_Emiliana]['HasTiff'] = 1"
   ]
  },
  {
   "cell_type": "code",
   "execution_count": 19,
   "metadata": {},
   "outputs": [
    {
     "data": {
      "text/plain": [
       "(252412, 449)"
      ]
     },
     "execution_count": 19,
     "metadata": {},
     "output_type": "execute_result"
    }
   ],
   "source": [
    "all_data = np.vstack((\n",
    "    df_c6818.to_numpy(dtype=np.float_)[:num_class_samples],\n",
    "    df_emiliana.to_numpy(dtype=np.float_)[:num_class_samples]\n",
    "))\n",
    "\n",
    "num_data = len(all_data)\n",
    "\n",
    "all_data.shape"
   ]
  },
  {
   "cell_type": "code",
   "execution_count": 20,
   "metadata": {},
   "outputs": [
    {
     "name": "stdout",
     "output_type": "stream",
     "text": [
      "126206 126206\n"
     ]
    }
   ],
   "source": [
    "# class labels (first half is 0, second half is 1)\n",
    "labels = np.zeros(num_data, dtype=int)\n",
    "labels[:num_class_samples] = 1\n",
    "\n",
    "print((labels == 0).sum(), (labels == 1).sum())"
   ]
  },
  {
   "cell_type": "code",
   "execution_count": 21,
   "metadata": {},
   "outputs": [
    {
     "name": "stdout",
     "output_type": "stream",
     "text": [
      "(214550, 449) (37862, 449)\n",
      "[0 1]\n",
      "107242 107308\n"
     ]
    }
   ],
   "source": [
    "# make train / test datasets by mixing two data randomly\n",
    "num_train = int(0.85 * num_data)\n",
    "shuffled_indices = np.random.choice(num_data, size=num_data, replace=False)\n",
    "\n",
    "train_indices = shuffled_indices[: num_train]\n",
    "test_indices = shuffled_indices[num_train:]\n",
    "\n",
    "train_data = all_data[train_indices]\n",
    "train_labels = labels[train_indices]\n",
    "\n",
    "test_data = all_data[test_indices]\n",
    "test_labels = labels[test_indices]\n",
    "\n",
    "\n",
    "print(train_data.shape, test_data.shape)\n",
    "print(np.unique(test_labels))\n",
    "print((train_labels == 0).sum(), (train_labels == 1).sum())"
   ]
  },
  {
   "cell_type": "code",
   "execution_count": 22,
   "metadata": {},
   "outputs": [],
   "source": [
    "# save datasets\n",
    "with open(os.path.join(outputdatadir,\"train_ds.bin\"), mode=\"wb\") as f:\n",
    "    pickle.dump({\n",
    "        \"train_data\": train_data,\n",
    "        \"train_labels\": train_labels,\n",
    "        'train_has_tiff'\n",
    "        \"feature_names\": feature_names\n",
    "    }, f)\n",
    "\n",
    "with open(os.path.join(outputdatadir,\"test_ds.bin\"), mode=\"wb\") as f:\n",
    "    pickle.dump({\n",
    "        \"test_data\": test_data,\n",
    "        \"test_labels\": test_labels,\n",
    "        \"feature_names\": feature_names\n",
    "    }, f)"
   ]
  },
  {
   "cell_type": "code",
   "execution_count": 23,
   "metadata": {},
   "outputs": [],
   "source": [
    "meta_keys = list(c6818_sample.get_metadata().keys())\n",
    "for k in emiliana_sample.get_metadata().keys():\n",
    "    if k not in meta_keys:\n",
    "        print(f\"{k} is not in other sample meta data!\")\n",
    "        break"
   ]
  },
  {
   "cell_type": "code",
   "execution_count": 24,
   "metadata": {},
   "outputs": [
    {
     "name": "stdout",
     "output_type": "stream",
     "text": [
      "[20, 324, 1, 103] 448\n"
     ]
    }
   ],
   "source": [
    "# get different types of columns\n",
    "COL_TYPE_SCATTER = \"SCATTER\"\n",
    "COL_TYPE_COLOR = \"COLOR\"\n",
    "COL_TYPE_TIME = \"TIME\"\n",
    "\n",
    "scatter_cols = []\n",
    "color_cols = []\n",
    "time_cols = []\n",
    "other_cols = []\n",
    "\n",
    "meta_dict = c6818_sample.get_metadata()\n",
    "\n",
    "for i in range(len(feature_names)):\n",
    "    key = f\"p{i}kind\"\n",
    "    col_type = meta_dict.get(key, None)\n",
    "    if col_type is None:\n",
    "        other_cols.append(i)\n",
    "    elif col_type.upper() == COL_TYPE_SCATTER:\n",
    "        scatter_cols.append(i)\n",
    "    elif col_type.upper() == COL_TYPE_COLOR:\n",
    "        color_cols.append(i)\n",
    "    elif col_type.upper() == COL_TYPE_TIME:\n",
    "        time_cols.append(i)\n",
    "\n",
    "len_all = [len(scatter_cols), len(color_cols), len(time_cols), len(other_cols)]\n",
    "print(len_all, sum(len_all))\n"
   ]
  },
  {
   "cell_type": "code",
   "execution_count": 25,
   "metadata": {},
   "outputs": [
    {
     "data": {
      "text/plain": [
       "37"
      ]
     },
     "execution_count": 25,
     "metadata": {},
     "output_type": "execute_result"
    }
   ],
   "source": [
    "# get imaging columns\n",
    "imaging_cols = []\n",
    "for i, name in enumerate(feature_names):\n",
    "    if name.count(\"Imaging\") > 0:\n",
    "        imaging_cols.append(i)\n",
    "\n",
    "len(imaging_cols)"
   ]
  },
  {
   "cell_type": "code",
   "execution_count": 26,
   "metadata": {},
   "outputs": [
    {
     "data": {
      "text/plain": [
       "(252412, 37)"
      ]
     },
     "execution_count": 26,
     "metadata": {},
     "output_type": "execute_result"
    }
   ],
   "source": [
    "# create dataset based on only imaging columns\n",
    "all_imaging_data = np.vstack((\n",
    "    df_c6818.iloc[:, imaging_cols].to_numpy(dtype=np.float_)[:num_class_samples],\n",
    "    df_emiliana.iloc[:, imaging_cols].to_numpy(dtype=np.float_)[:num_class_samples]\n",
    "))\n",
    "\n",
    "all_imaging_data.shape"
   ]
  },
  {
   "cell_type": "code",
   "execution_count": 27,
   "metadata": {},
   "outputs": [
    {
     "name": "stdout",
     "output_type": "stream",
     "text": [
      "(214550, 37) (37862, 37)\n"
     ]
    }
   ],
   "source": [
    "train_imaging_data = all_imaging_data[train_indices]\n",
    "train_imaging_labels = labels[train_indices]\n",
    "\n",
    "test_imaging_data = all_imaging_data[test_indices]\n",
    "test_imaging_labels = labels[test_indices]\n",
    "\n",
    "print(train_imaging_data.shape, test_imaging_data.shape)"
   ]
  },
  {
   "cell_type": "code",
   "execution_count": 28,
   "metadata": {},
   "outputs": [],
   "source": [
    "# save datasets\n",
    "import os\n",
    "\n",
    "with open(os.path.join(outputdatadir, \"train_imaging_ds.bin\"), mode=\"wb\") as f:\n",
    "    pickle.dump({\n",
    "        \"train_data\": train_imaging_data,\n",
    "        \"train_labels\": train_imaging_labels,\n",
    "        \"feature_names\": np.array(feature_names)[imaging_cols].tolist()\n",
    "    }, f)\n",
    "\n",
    "with open(os.path.join(outputdatadir, \"test_imaging_ds.bin\"), mode=\"wb\") as f:\n",
    "    pickle.dump({\n",
    "        \"test_data\": test_imaging_data,\n",
    "        \"test_labels\": test_imaging_labels,\n",
    "        \"feature_names\": np.array(feature_names)[imaging_cols].tolist()\n",
    "    }, f)"
   ]
  },
  {
   "cell_type": "code",
   "execution_count": 29,
   "metadata": {},
   "outputs": [
    {
     "name": "stdout",
     "output_type": "stream",
     "text": [
      "test_ds.bin          train_ds.bin\n",
      "test_imaging_ds.bin  train_imaging_ds.bin\n"
     ]
    }
   ],
   "source": [
    "!ls \"$outputdatadir\""
   ]
  },
  {
   "cell_type": "code",
   "execution_count": null,
   "metadata": {},
   "outputs": [],
   "source": []
  }
 ],
 "metadata": {
  "kernelspec": {
   "display_name": "planktons",
   "language": "python",
   "name": "python3"
  },
  "language_info": {
   "codemirror_mode": {
    "name": "ipython",
    "version": 3
   },
   "file_extension": ".py",
   "mimetype": "text/x-python",
   "name": "python",
   "nbconvert_exporter": "python",
   "pygments_lexer": "ipython3",
   "version": "3.9.18"
  },
  "varInspector": {
   "cols": {
    "lenName": 16,
    "lenType": 16,
    "lenVar": 40
   },
   "kernels_config": {
    "python": {
     "delete_cmd_postfix": "",
     "delete_cmd_prefix": "del ",
     "library": "var_list.py",
     "varRefreshCmd": "print(var_dic_list())"
    },
    "r": {
     "delete_cmd_postfix": ") ",
     "delete_cmd_prefix": "rm(",
     "library": "var_list.r",
     "varRefreshCmd": "cat(var_dic_list()) "
    }
   },
   "types_to_exclude": [
    "module",
    "function",
    "builtin_function_or_method",
    "instance",
    "_Feature"
   ],
   "window_display": false
  },
  "vscode": {
   "interpreter": {
    "hash": "3d1c7b4c243dd1c68619aabfaac60ec6fd8a3adf74a792e780ecdff7dc65c27c"
   }
  }
 },
 "nbformat": 4,
 "nbformat_minor": 4
}
